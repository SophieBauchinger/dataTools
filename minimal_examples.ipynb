{
 "cells": [
  {
   "cell_type": "code",
   "execution_count": null,
   "id": "cdba8aef",
   "metadata": {},
   "outputs": [],
   "source": [
    "%matplotlib inline\n",
    "from importlib import reload\n",
    "import matplotlib.pyplot as plt\n",
    "import numpy as np\n",
    "from pathlib import Path \n",
    "\n",
    "import dataTools.dictionaries as dcts\n",
    "from dataTools import tools\n",
    "from dataTools.data import data_getter\n",
    "import dataTools.plot.create_figure as cfig \n",
    "\n",
    "from dataTools.data.Caribic import Caribic"
   ]
  },
  {
   "cell_type": "code",
   "execution_count": null,
   "id": "84990a8d",
   "metadata": {},
   "outputs": [],
   "source": [
    "# C:\\Users\\sophie_bauchinger\\Documents\\GitHub\\pyenvs\\airvenv\\Scripts\\activate"
   ]
  },
  {
   "cell_type": "markdown",
   "id": "6a078a8b",
   "metadata": {},
   "source": [
    "# Data objects"
   ]
  },
  {
   "cell_type": "markdown",
   "id": "bbd63f01",
   "metadata": {},
   "source": [
    "Main workflows\n",
    "* Caribic: Observational data from Caribic2data per pfx per year [GHG, INTtpc - integrated model data over flask sample measurements]\n",
    "* Phileas / Campaign Data with TPChange interpolation: Get observational and model data from files\n",
    "* Other campaigns (TPChange model but no obs.): TPChange model + get obs. from SQL or individual approach\n",
    "* Sonde Data: TPChange interpolation obs + model\n"
   ]
  },
  {
   "cell_type": "code",
   "execution_count": null,
   "id": "99eb4127",
   "metadata": {},
   "outputs": [],
   "source": [
    "# Test data import from TPChange files \n",
    "\n",
    "tpchange_campaigns_obs = {\n",
    "    'CAR'  : 'CaribicTPChange',\n",
    "    'SHTR' : 'SouthtracTPChange',\n",
    "    'WISE' : 'WiseTPChange',\n",
    "    'ATOM' : 'AtomTPChange',\n",
    "    'HIPPO': 'HippoTPChange',\n",
    "    'PGS'  : 'PolstraccTPChange',\n",
    "    'PHL'  : 'PhileasTPChange',\n",
    "    'ESM' : 'ESMValTPChange',\n",
    "    }\n",
    "\n",
    "# Model data only\n",
    "tpchange_campaigns_model = {\n",
    "    'Attrex' : 'MODEL_DATA/ATTREX_TPChange', # N2O available\n",
    "    'Envisat' : 'MODEL_DATA/ENVISAT_TPChange', # N2O available\n",
    "    'Euplex' : 'MODEL_DATA/EUPLEX_TPChange', # N2O available\n",
    "    'SPURT' : 'MODEL_DATA/SPURT_TPChange', # ? Obs data ?\n",
    "    'TACTS' : 'MODEL_DATA/TACTS_TPChange', # ! Obs data via SQL DB \n",
    "    'TC4' : 'MODEL_DATA/TC4_TPChange', # N2O available\n",
    "    }"
   ]
  },
  {
   "cell_type": "code",
   "execution_count": null,
   "id": "f1e3a8f6",
   "metadata": {},
   "outputs": [],
   "source": [
    "from dataTools.data._global import DataCollection\n",
    "\n",
    "ID = 'ESM'\n",
    "pdir = Path('E:/TPChange/' + tpchange_campaigns_obs[ID])\n",
    "gdf = data_getter.get_TPChange_gdf(pdir)\n",
    "esm = DataCollection(gdf, ID='ESM')"
   ]
  },
  {
   "cell_type": "code",
   "execution_count": null,
   "id": "f844401a",
   "metadata": {},
   "outputs": [],
   "source": [
    "esm.ID"
   ]
  },
  {
   "cell_type": "code",
   "execution_count": null,
   "id": "18901ea6",
   "metadata": {},
   "outputs": [],
   "source": [
    "esm.pickle_data(pdir = r\"C:\\Users\\sophie_bauchinger\\Documents\\GitHub\\chemTPanaylses\\data\\store\\\")"
   ]
  },
  {
   "cell_type": "code",
   "execution_count": null,
   "id": "613f6436",
   "metadata": {},
   "outputs": [],
   "source": [
    "car_2013 = Caribic(pfxs = ['INTtpc', 'GHG'], years = [2013], recalculate = True)"
   ]
  },
  {
   "cell_type": "markdown",
   "id": "fbbb29a5",
   "metadata": {},
   "source": [
    "# Consistent colors & linestyles "
   ]
  },
  {
   "cell_type": "code",
   "execution_count": null,
   "id": "6790a9e3",
   "metadata": {},
   "outputs": [],
   "source": [
    "# Linestyles per month\n",
    "fig, ax = plt.subplots()\n",
    "m_dict = dcts.dict_month()\n",
    "for m in range(1,13):\n",
    "    ax.plot(np.arange(1,10), [-m]*9,\n",
    "            linestyle = '-' if m%2 else '--',\n",
    "            color = m_dict[f'color_{m}'],\n",
    "            lw=5,)\n",
    "ax.set_xlim(0.5,11.5)\n",
    "ax.legend(handles = cfig.month_legend_handles(), loc='center right');"
   ]
  },
  {
   "cell_type": "code",
   "execution_count": null,
   "id": "8103064e",
   "metadata": {},
   "outputs": [],
   "source": [
    "# Linestyles per season / Linestyles for typical profile (seasons + av + mean TP)\n",
    "fig, (ax0, ax1) = plt.subplots(2,1, figsize = (5,6))\n",
    "s_dict = dcts.dict_season()\n",
    "for s in range(1,5):\n",
    "    ax0.plot(np.arange(1,10),\n",
    "            [-s+0.5*i for i in range(0,9)],\n",
    "            color = s_dict[f'color_{s}'],\n",
    "            lw=5,)\n",
    "ax0.set_xlim(0.5,11.5)\n",
    "ax0.legend(handles = cfig.season_legend_handles(), loc='lower right');\n",
    "ax0.xaxis.set_visible(False); ax0.yaxis.set_visible(False)\n",
    "\n",
    "for s in range(1,5):\n",
    "    ax1.scatter(np.arange(0,5.5, 0.5),[s]*11,\n",
    "            color = m_dict[f'color_{s}'],)\n",
    "ax1.plot(np.arange(0,6), [-1]*6, color='dimgrey', lw = 3)\n",
    "ax1.plot(np.arange(0,6), [0]*6, color='dimgrey', lw = 3, ls='dashed')\n",
    "ax1.set_xlim(-0.5,10); ax1.set_ylim(5,-2)\n",
    "ax1.legend(handles = cfig.typical_profile_legend_handles(), loc='center right')\n",
    "ax1.xaxis.set_visible(False); ax1.yaxis.set_visible(False)\n",
    "\n",
    "fig.tight_layout()"
   ]
  },
  {
   "cell_type": "code",
   "execution_count": null,
   "id": "7fdecf44",
   "metadata": {},
   "outputs": [],
   "source": [
    "# Linestyles per Tropopause Definition\n",
    "tps = [\n",
    "    dcts.get_coord(\"N2O_residual\"),\n",
    "    dcts.get_coord('int_CARIBIC2_H_rel_TP'),\n",
    "    dcts.get_coord(\"int_ERA5_D_HEIGHT_1_5\"),\n",
    "    dcts.get_coord(\"int_ERA5_D_HEIGHT_2_0\"),\n",
    "    dcts.get_coord(\"int_ERA5_D_HEIGHT_3_5\"),\n",
    "    dcts.get_coord(\"int_ERA5_D_HEIGHT_thermTP\"),\n",
    "]; tps.sort(key = lambda x:x.tp_def)\n",
    "\n",
    "linestyles = dict(\n",
    "    N2O_residual = 'dashed',\n",
    "    int_CARIBIC2_H_rel_TP  = '-',\n",
    "    int_ERA5_D_HEIGHT_1_5 = '-',\n",
    "    int_ERA5_D_HEIGHT_2_0 = (0, (5,1)),\n",
    "    int_ERA5_D_HEIGHT_3_5 = (0, (2.5,0.5)),\n",
    "    int_ERA5_D_HEIGHT_thermTP = (0, (2.5,0.5,1,0.5)),\n",
    ")\n",
    "\n",
    "fig, ax = plt.subplots(figsize = (5,2.5))\n",
    "for i, tp in enumerate(tps):\n",
    "    ax.plot(np.arange(1,7),[i]*6,\n",
    "            color = tp.get_color(),\n",
    "            ls = linestyles[tp.col_name],\n",
    "            lw=5,)\n",
    "ax.set_xlim(0.5,11.5); ax.set_ylim(5.5, -0.5)\n",
    "ax.xaxis.set_visible(False); ax.yaxis.set_visible(False)\n",
    "ax.legend(handles = cfig.tp_legend_handles(tps, linestyle_dict=linestyles, lw=2), loc='center right');"
   ]
  },
  {
   "cell_type": "markdown",
   "id": "d7035458",
   "metadata": {},
   "source": [
    "# Faster programming and general tips and tricks "
   ]
  },
  {
   "cell_type": "code",
   "execution_count": null,
   "id": "ec6d9293",
   "metadata": {},
   "outputs": [],
   "source": [
    "from concurrent.futures import ThreadPoolExecutor\n",
    "import concurrent.futures\n",
    "import urllib.request\n",
    "\n",
    "# with ThreadPoolExecutor() as executor:\n",
    "#     futures = [executor.submit(\n",
    "#         wr.joint_station_year_df, id, year) \n",
    "#                for id in stations for year in years_per_id[id]]\n",
    "\n",
    "# Example usage of ThreadPoolExecutor\n",
    "URLS = ['http://www.cnn.com/',\n",
    "        'http://europe.wsj.com/',\n",
    "        'http://www.bbc.co.uk/',\n",
    "        'http://nonexistent-subdomain.python.org/']\n",
    "\n",
    "# Retrieve a single page and report the URL and contents\n",
    "def load_url(url, timeout):\n",
    "    with urllib.request.urlopen(url, timeout=timeout) as conn:\n",
    "        return conn.read()\n",
    "\n",
    "# We can use a with statement to ensure threads are cleaned up promptly\n",
    "with concurrent.futures.ThreadPoolExecutor(max_workers=5) as executor:\n",
    "    # Start the load operations and mark each future with its URL\n",
    "    future_to_url = {executor.submit(load_url, url, 60): url for url in URLS}\n",
    "    for future in concurrent.futures.as_completed(future_to_url):\n",
    "        url = future_to_url[future]\n",
    "        try:\n",
    "            data = future.result()\n",
    "        except Exception as exc:\n",
    "            print('%r generated an exception: %s' % (url, exc))\n",
    "        else:\n",
    "            print('%r page is %d bytes' % (url, len(data)))"
   ]
  }
 ],
 "metadata": {
  "kernelspec": {
   "display_name": "airvenv",
   "language": "python",
   "name": "python3"
  },
  "language_info": {
   "codemirror_mode": {
    "name": "ipython",
    "version": 3
   },
   "file_extension": ".py",
   "mimetype": "text/x-python",
   "name": "python",
   "nbconvert_exporter": "python",
   "pygments_lexer": "ipython3",
   "version": "3.13.5"
  }
 },
 "nbformat": 4,
 "nbformat_minor": 5
}
